{
 "cells": [
  {
   "cell_type": "code",
   "execution_count": 47,
   "id": "deddcf2f",
   "metadata": {},
   "outputs": [
    {
     "name": "stdout",
     "output_type": "stream",
     "text": [
      "Requirement already satisfied: mysql-connector-python in c:\\users\\aniwa\\anaconda3\\lib\\site-packages (8.1.0)\n",
      "Requirement already satisfied: protobuf<=4.21.12,>=4.21.1 in c:\\users\\aniwa\\anaconda3\\lib\\site-packages (from mysql-connector-python) (4.21.12)\n",
      "Note: you may need to restart the kernel to use updated packages.\n"
     ]
    }
   ],
   "source": [
    "pip install mysql-connector-python #install the connector package"
   ]
  },
  {
   "cell_type": "code",
   "execution_count": 80,
   "id": "0633d82b",
   "metadata": {},
   "outputs": [
    {
     "name": "stdout",
     "output_type": "stream",
     "text": [
      "<mysql.connector.connection_cext.CMySQLConnection object at 0x000001CD7066E1D0>\n"
     ]
    }
   ],
   "source": [
    "import mysql.connector\n",
    "db = mysql.connector.connect(\n",
    "  host=\"localhost\",\n",
    "  user=\"root\",\n",
    "  password=\"Onajourney123#\",\n",
    "  database=\"db3\" #must have this expression to enable whatever action wriiten to taake effect on the specified db\n",
    ")\n",
    "mycursor = db.cursor()\n",
    "print(db)"
   ]
  },
  {
   "cell_type": "markdown",
   "id": "699d1a88",
   "metadata": {},
   "source": [
    "# 1. How much is the total donation?\n"
   ]
  },
  {
   "cell_type": "code",
   "execution_count": 53,
   "id": "216ff85e",
   "metadata": {},
   "outputs": [
    {
     "name": "stdout",
     "output_type": "stream",
     "text": [
      "[(Decimal('249085'),)]\n"
     ]
    }
   ],
   "source": [
    "mycursor.execute(\"SELECT  sum(donation) FROM donation_data\")\n",
    "total_donations = mycursor.fetchall()\n",
    "\n",
    "print(total_donations)"
   ]
  },
  {
   "cell_type": "markdown",
   "id": "ae51a22b",
   "metadata": {},
   "source": [
    "# 2. What is the total donation by Gender?"
   ]
  },
  {
   "cell_type": "code",
   "execution_count": 54,
   "id": "4949190e",
   "metadata": {},
   "outputs": [
    {
     "name": "stdout",
     "output_type": "stream",
     "text": [
      "[('Male', Decimal('127628')), ('Female', Decimal('121457'))]\n"
     ]
    }
   ],
   "source": [
    "mycursor.execute(\"SELECT gender, sum(donation) FROM donation_data GROUP BY gender\")\n",
    "donationbygender = mycursor.fetchall()\n",
    "print(donationbygender)"
   ]
  },
  {
   "cell_type": "markdown",
   "id": "6829bedf",
   "metadata": {},
   "source": [
    "# 3. Show the total donation and number of donations by Gender\n"
   ]
  },
  {
   "cell_type": "code",
   "execution_count": 56,
   "id": "57c45a70",
   "metadata": {},
   "outputs": [
    {
     "name": "stdout",
     "output_type": "stream",
     "text": [
      "[('Male', 492, Decimal('127628')), ('Female', 508, Decimal('121457'))]\n"
     ]
    }
   ],
   "source": [
    "mycursor.execute(\"SELECT gender, count(donation), sum(donation) FROM donation_data GROUP BY gender\")\n",
    "donationcounterandsum = mycursor.fetchall()\n",
    "print(donationcounterandsum)"
   ]
  },
  {
   "cell_type": "markdown",
   "id": "75ae76f5",
   "metadata": {},
   "source": [
    "# 4. Total donation made by frequency of donation"
   ]
  },
  {
   "cell_type": "code",
   "execution_count": 58,
   "id": "83cad786",
   "metadata": {},
   "outputs": [
    {
     "name": "stdout",
     "output_type": "stream",
     "text": [
      "[(28, 'Daily'), (292, 'Yearly')]\n"
     ]
    }
   ],
   "source": [
    "mycursor.execute(\"SELECT donation_data.donation, donor_data.donation_frequency FROM donation_data JOIN donor_data ON donation_data.id = donor_data.id\")\n",
    "donationfreq = mycursor.fetchall()\n",
    "print(donationfreq)"
   ]
  },
  {
   "cell_type": "markdown",
   "id": "6ab9f725",
   "metadata": {},
   "source": [
    "# 5. Total donation and number of donation by Job field"
   ]
  },
  {
   "cell_type": "code",
   "execution_count": 63,
   "id": "d2aeaeb0",
   "metadata": {},
   "outputs": [
    {
     "name": "stdout",
     "output_type": "stream",
     "text": [
      "('Human Resources', 93, Decimal('23060'))\n",
      "('Engineering', 93, Decimal('21968'))\n",
      "('Sales', 83, Decimal('19009'))\n",
      "('Business Development', 94, Decimal('22266'))\n",
      "('Legal', 66, Decimal('17309'))\n",
      "('Marketing', 74, Decimal('18255'))\n",
      "('Services', 80, Decimal('19858'))\n",
      "('Accounting', 80, Decimal('20504'))\n",
      "('Research and Development', 84, Decimal('22862'))\n",
      "('Training', 84, Decimal('21721'))\n",
      "('Support', 79, Decimal('19475'))\n",
      "('Product Management', 90, Decimal('22798'))\n"
     ]
    }
   ],
   "source": [
    "mycursor.execute(\"SELECT job_field, count(donation), sum(donation) FROM donation_data GROUP BY job_field\")\n",
    "donationnumberandtotal = mycursor.fetchall()\n",
    "for x in donationnumberandtotal:\n",
    "    print(x)"
   ]
  },
  {
   "cell_type": "markdown",
   "id": "849b4365",
   "metadata": {},
   "source": [
    "# 6. Total donation and number of donations above 200USD"
   ]
  },
  {
   "cell_type": "code",
   "execution_count": 67,
   "id": "4211f784",
   "metadata": {},
   "outputs": [
    {
     "name": "stdout",
     "output_type": "stream",
     "text": [
      "[(Decimal('205892'), 586)]\n"
     ]
    }
   ],
   "source": [
    "mycursor.execute(\"SELECT sum(donation), count(donation) FROM donation_data WHERE donation > 200\")\n",
    "donationabove200 = mycursor.fetchall()\n",
    "print(donationabove200)"
   ]
  },
  {
   "cell_type": "markdown",
   "id": "7bff7ef5",
   "metadata": {},
   "source": [
    "# 7. Total donation and number of donations below 200USD"
   ]
  },
  {
   "cell_type": "code",
   "execution_count": 68,
   "id": "4b9509b5",
   "metadata": {},
   "outputs": [
    {
     "name": "stdout",
     "output_type": "stream",
     "text": [
      "[(Decimal('42593'), 411)]\n"
     ]
    }
   ],
   "source": [
    "mycursor.execute(\"SELECT sum(donation), count(donation) FROM donation_data WHERE donation < 200\")\n",
    "donationbelow200 = mycursor.fetchall()\n",
    "print(donationbelow200)"
   ]
  },
  {
   "cell_type": "markdown",
   "id": "6f4565f5",
   "metadata": {},
   "source": [
    "# 8. Which top 10 states contributes the highest donations"
   ]
  },
  {
   "cell_type": "code",
   "execution_count": 75,
   "id": "e9917cdb",
   "metadata": {},
   "outputs": [
    {
     "name": "stdout",
     "output_type": "stream",
     "text": [
      "('California', Decimal('30264'))\n",
      "('Texas', Decimal('24097'))\n",
      "('Florida', Decimal('20562'))\n",
      "('New York', Decimal('14759'))\n",
      "('Virginia', Decimal('10750'))\n",
      "('Illinois', Decimal('8674'))\n",
      "('District of Columbia', Decimal('8376'))\n",
      "('Tennessee', Decimal('8316'))\n",
      "('Georgia', Decimal('8046'))\n",
      "('Ohio', Decimal('6876'))\n"
     ]
    }
   ],
   "source": [
    "mycursor.execute(\"SELECT state, sum(donation) FROM donation_data GROUP BY state ORDER BY sum(donation) DESC LIMIT 10\")\n",
    "donationbystate = mycursor.fetchall()\n",
    "for x in donationbystate:\n",
    "    print(x)"
   ]
  },
  {
   "cell_type": "markdown",
   "id": "2f49d513",
   "metadata": {},
   "source": [
    "# 9. Which top 10 states contributes the least donations"
   ]
  },
  {
   "cell_type": "code",
   "execution_count": 85,
   "id": "ab4bcf06",
   "metadata": {},
   "outputs": [
    {
     "name": "stdout",
     "output_type": "stream",
     "text": [
      "('Wyoming', Decimal('232'))\n",
      "('Maine', Decimal('258'))\n",
      "('South Dakota', Decimal('401'))\n",
      "('North Dakota', Decimal('651'))\n",
      "('Alaska', Decimal('734'))\n",
      "('West Virginia', Decimal('793'))\n",
      "('South Carolina', Decimal('819'))\n",
      "('New Hampshire', Decimal('841'))\n",
      "('Hawaii', Decimal('875'))\n",
      "('Montana', Decimal('1009'))\n"
     ]
    }
   ],
   "source": [
    "mycursor.execute(\"SELECT state, sum(donation) FROM donation_data GROUP BY state ORDER BY sum(donation) ASC LIMIT 10\")\n",
    "least10donations = mycursor.fetchall()\n",
    "for x in least10donations:\n",
    "    print(x)\n"
   ]
  },
  {
   "cell_type": "code",
   "execution_count": null,
   "id": "f057f1b4",
   "metadata": {},
   "outputs": [],
   "source": []
  }
 ],
 "metadata": {
  "kernelspec": {
   "display_name": "Python 3 (ipykernel)",
   "language": "python",
   "name": "python3"
  },
  "language_info": {
   "codemirror_mode": {
    "name": "ipython",
    "version": 3
   },
   "file_extension": ".py",
   "mimetype": "text/x-python",
   "name": "python",
   "nbconvert_exporter": "python",
   "pygments_lexer": "ipython3",
   "version": "3.11.3"
  }
 },
 "nbformat": 4,
 "nbformat_minor": 5
}
